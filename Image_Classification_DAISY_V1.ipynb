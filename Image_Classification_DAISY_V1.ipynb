{
 "cells": [
  {
   "cell_type": "markdown",
   "metadata": {},
   "source": [
    "# Image Classification using `sklearn.svm`"
   ]
  },
  {
   "cell_type": "markdown",
   "metadata": {},
   "source": [
    "## Libraries"
   ]
  },
  {
   "cell_type": "code",
   "execution_count": 1,
   "metadata": {},
   "outputs": [],
   "source": [
    "import numpy as np\n",
    "from sklearn import svm, metrics\n",
    "from sklearn.model_selection import GridSearchCV, train_test_split\n",
    "\n",
    "import time\n",
    "import datetime\n",
    "\n",
    "# My addition to the original code\n",
    "import pickle"
   ]
  },
  {
   "cell_type": "markdown",
   "metadata": {},
   "source": [
    "## Loading Dataset from the pickle"
   ]
  },
  {
   "cell_type": "code",
   "execution_count": 2,
   "metadata": {},
   "outputs": [
    {
     "name": "stdout",
     "output_type": "stream",
     "text": [
      "Start time:  2019-01-14 09:24:11.587914\n"
     ]
    }
   ],
   "source": [
    "# Start point\n",
    "start_time = time.time()\n",
    "print(\"Start time: \", datetime.datetime.now())"
   ]
  },
  {
   "cell_type": "code",
   "execution_count": 3,
   "metadata": {},
   "outputs": [],
   "source": [
    "pickle_in = open(\"Signature_Dataset_DAISY_V1.pickle\",\"rb\")\n",
    "image_dataset = pickle.load(pickle_in)"
   ]
  },
  {
   "cell_type": "markdown",
   "metadata": {},
   "source": [
    "### Split data in Training Set and Testing Set"
   ]
  },
  {
   "cell_type": "code",
   "execution_count": 8,
   "metadata": {},
   "outputs": [
    {
     "name": "stdout",
     "output_type": "stream",
     "text": [
      "----Dataset Splitted----\n"
     ]
    }
   ],
   "source": [
    "# Manual splitting of the Dataset\n",
    "ds70=(70*158)//100*(20-2)\n",
    "# 70%dataset_index = [70%(number_of_subjects)]*(20-number_of_fixed_genuine_signatures)\n",
    "# [ ] = floor of a number\n",
    "\n",
    "\n",
    "X_train = image_dataset.data[:ds70]\n",
    "X_test = image_dataset.data[ds70:]\n",
    "y_train = image_dataset.target[:ds70]\n",
    "y_test = image_dataset.target[ds70:]\n",
    "\n",
    "print(\"----Dataset Splitted----\")"
   ]
  },
  {
   "cell_type": "markdown",
   "metadata": {},
   "source": [
    "### Train data with parameter optimization"
   ]
  },
  {
   "cell_type": "code",
   "execution_count": 4,
   "metadata": {},
   "outputs": [],
   "source": [
    "from pandas import DataFrame\n",
    "from sklearn.model_selection import StratifiedKFold\n",
    "from sklearn.linear_model import LogisticRegression\n",
    "from sklearn.ensemble import RandomForestClassifier"
   ]
  },
  {
   "cell_type": "code",
   "execution_count": 13,
   "metadata": {},
   "outputs": [],
   "source": [
    "#Dictionary of models and hyperparameters\n",
    "models_and_hyperparameters={'LR':(LogisticRegression(),{'C': [0.01, 0.05, 0.1, 0.5, 1, 2],\n",
    "                                                        'penalty': ['l1', 'l2'], \n",
    "                                                        'class_weight': ['balanced']}),\n",
    "                           'SVM':(svm.SVC(),{'C': [1, 10, 100, 1000],\n",
    "                                             'gamma': [0.001, 0.0001],\n",
    "                                             'kernel': ['rbf'],\n",
    "                                             'class_weight': ['balanced']}),\n",
    "                           'RFC':(RandomForestClassifier(), {'n_estimators': [50,100,200],\n",
    "                                                             # 'max_features': ['auto', 'sqrt'],\n",
    "                                                             'max_depth': [50,60,70],\n",
    "                                                             'min_samples_split': [2,5,10],\n",
    "                                                             #'min_samples_leaf': [1,2],\n",
    "                                                             'bootstrap': [True, False],\n",
    "                                                             'class_weight': ['balanced']})\n",
    "                           }"
   ]
  },
  {
   "cell_type": "code",
   "execution_count": null,
   "metadata": {},
   "outputs": [],
   "source": [
    "#LOGISTIC REGRESSION\n",
    "\"\"\"\n",
    "print(\"----Training----\")\n",
    "\n",
    "k_fold = StratifiedKFold(n_splits=10, shuffle=True, random_state=31)\n",
    "\n",
    "model = models_and_hyperparameters['LR'][0]\n",
    "\n",
    "hyperparameters = models_and_hyperparameters['LR'][1]\n",
    "\n",
    "\n",
    "gs = GridSearchCV(model, \n",
    "                   param_grid = hyperparameters,\n",
    "                   cv=k_fold, \n",
    "                   scoring='accuracy',\n",
    "                   verbose=3,\n",
    "                   return_train_score=True)\n",
    "\n",
    "gs.fit(X_train, y_train)\n",
    "\n",
    "print(\"----Training Ended----\")\n",
    "\"\"\""
   ]
  },
  {
   "cell_type": "code",
   "execution_count": null,
   "metadata": {},
   "outputs": [],
   "source": [
    "# SVM\n",
    "\"\"\"\n",
    "print(\"----Training----\")\n",
    "\n",
    "k_fold = StratifiedKFold(n_splits=4, shuffle=True, random_state=31)\n",
    "\n",
    "model = models_and_hyperparameters['SVM'][0]\n",
    "\n",
    "hyperparameters = models_and_hyperparameters['SVM'][1]\n",
    "\n",
    "\n",
    "gs = GridSearchCV(model, \n",
    "                   param_grid = hyperparameters,\n",
    "                   cv=k_fold, \n",
    "                   scoring='accuracy',\n",
    "                   verbose=3,\n",
    "                   return_train_score=True)\n",
    "\n",
    "gs.fit(X_train, y_train)\n",
    "\n",
    "print(\"----Training Ended----\")\n",
    "\"\"\""
   ]
  },
  {
   "cell_type": "code",
   "execution_count": null,
   "metadata": {},
   "outputs": [],
   "source": [
    "# RANDOM FOREST\n",
    "\n",
    "print(\"----Training----\")\n",
    "\n",
    "k_fold = StratifiedKFold(n_splits=4, shuffle=True, random_state=31)\n",
    "\n",
    "model = models_and_hyperparameters['RFC'][0]\n",
    "\n",
    "hyperparameters = models_and_hyperparameters['RFC'][1]\n",
    "\n",
    "\n",
    "gs = GridSearchCV(model, \n",
    "                   param_grid = hyperparameters,\n",
    "                   cv=k_fold, \n",
    "                   scoring='accuracy',\n",
    "                   verbose=3,\n",
    "                   return_train_score=True)\n",
    "\n",
    "gs.fit(X_train, y_train)\n",
    "\n",
    "print(\"----Training Ended----\")\n"
   ]
  },
  {
   "cell_type": "code",
   "execution_count": null,
   "metadata": {},
   "outputs": [],
   "source": [
    "DataFrame(gs.cv_results_)"
   ]
  },
  {
   "cell_type": "markdown",
   "metadata": {},
   "source": [
    "### Predict"
   ]
  },
  {
   "cell_type": "code",
   "execution_count": 8,
   "metadata": {},
   "outputs": [],
   "source": [
    "y_pred = gs.predict(X_test)"
   ]
  },
  {
   "cell_type": "code",
   "execution_count": null,
   "metadata": {},
   "outputs": [],
   "source": [
    "print(\"Best hyperparameters: {}\".format(gs.best_params_))\n",
    "print(\"Best accuracy score: {:3f}\".format(gs.best_score_))"
   ]
  },
  {
   "cell_type": "markdown",
   "metadata": {},
   "source": [
    "### Report"
   ]
  },
  {
   "cell_type": "code",
   "execution_count": null,
   "metadata": {},
   "outputs": [],
   "source": [
    "print(\"Classification report for - \\n{}:\\n{}\\n\".format(gs, metrics.classification_report(y_test, y_pred)))"
   ]
  },
  {
   "cell_type": "code",
   "execution_count": null,
   "metadata": {},
   "outputs": [],
   "source": [
    "# End point\n",
    "end_time = time.time()\n",
    "\n",
    "uptime = end_time - start_time\n",
    "\n",
    "human_uptime = datetime.timedelta(seconds=uptime)\n",
    "\n",
    "print(\"End time: \", datetime.datetime.now())\n",
    "print(\"Uptime :\" ,human_uptime)"
   ]
  }
 ],
 "metadata": {
  "kernelspec": {
   "display_name": "Python 3",
   "language": "python",
   "name": "python3"
  },
  "language_info": {
   "codemirror_mode": {
    "name": "ipython",
    "version": 3
   },
   "file_extension": ".py",
   "mimetype": "text/x-python",
   "name": "python",
   "nbconvert_exporter": "python",
   "pygments_lexer": "ipython3",
   "version": "3.7.0"
  }
 },
 "nbformat": 4,
 "nbformat_minor": 2
}

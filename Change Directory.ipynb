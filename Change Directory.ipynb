{
 "cells": [
  {
   "cell_type": "code",
   "execution_count": 1,
   "metadata": {},
   "outputs": [],
   "source": [
    "import os, shutil"
   ]
  },
  {
   "cell_type": "code",
   "execution_count": 2,
   "metadata": {},
   "outputs": [],
   "source": [
    "def moving_files(srcDir, dstDir, number):\n",
    "    # Check if both the are directories\n",
    "    if os.path.isdir(srcDir) and os.path.isdir(dstDir):\n",
    "        for i in range(10):\n",
    "            filePath = srcDir + '/T' + str(number) + \"_\" + str(i) + '.jpg'\n",
    "            newPath = shutil.copy(filePath, dstDir)\n",
    "            print(\"File\", srcDir, \"Copied\")\n",
    "    else:\n",
    "        print(\"srcDir & dstDir should be Directories\")"
   ]
  },
  {
   "cell_type": "code",
   "execution_count": null,
   "metadata": {},
   "outputs": [],
   "source": [
    "def creating_subjects_folder():\n",
    "    try:\n",
    "        #default path\n",
    "        default = os.getcwd()\n",
    "\n",
    "        #checking if the path exists\n",
    "        if os.path.exists(os.getcwd() + '/Frasi_check_cropped'):\n",
    "\n",
    "            #changing working directory\n",
    "            os.chdir(os.getcwd() + '/Frasi_check_cropped')\n",
    "\n",
    "            old_genuine_path = os.getcwd() + '/Genuine'\n",
    "            old_forgery_path = os.getcwd() + '/Forgeries'\n",
    "\n",
    "            for i in range(1,158):\n",
    "                dirSubject_number = os.getcwd() + '/'+ str(i)\n",
    "\n",
    "                #Creating the subjects folder number\n",
    "                if not os.path.exists(dirSubject_number):\n",
    "\n",
    "                    os.mkdir(dirSubject_number)\n",
    "                    print(\"Directory \" , dirSubject_number ,  \" Created \")\n",
    "\n",
    "                    new_genuine_path = dirSubject_number + '/Genuine'\n",
    "                    new_forgery_path = dirSubject_number + '/Forgery'\n",
    "\n",
    "                    #Creating the Genuine folders\n",
    "                    os.makedirs(new_genuine_path)\n",
    "                    print(\"Directory \" , new_genuine_path ,  \" Created \")\n",
    "\n",
    "                    #Copying the files to the new directory\n",
    "                    moving_files(old_genuine_path, new_genuine_path,i)\n",
    "\n",
    "                    #Creating the Forgery folder\n",
    "                    os.makedirs(new_forgery_path)\n",
    "                    print(\"Directory \" , new_forgery_path ,  \" Created \")\n",
    "\n",
    "                    #Copying the files to the new directory\n",
    "                    moving_files(old_forgery_path, new_forgery_path,i)                \n",
    "\n",
    "                else:    \n",
    "                    print(\"Directory \" , dirSubject_number ,  \" already exists\")\n",
    "\n",
    "                    #Copying the files to the new directory\n",
    "                    moving_files(old_genuine_path, new_genuine_path,i)\n",
    "\n",
    "                    #Copying the files to the new directory\n",
    "                    moving_files(old_forgery_path, new_forgery_path,i) \n",
    "\n",
    "        else:\n",
    "            print(\"Create or rename the Handwritting's folder as Frasi_check_cropped\")\n",
    "\n",
    "        #returning to the default path\n",
    "        os.chdir(default)\n",
    "\n",
    "    except OSError:\n",
    "        print(\"Can't change the current working directory\")"
   ]
  },
  {
   "cell_type": "code",
   "execution_count": null,
   "metadata": {},
   "outputs": [],
   "source": [
    "creating_subjects_folder()"
   ]
  }
 ],
 "metadata": {
  "kernelspec": {
   "display_name": "Python 3",
   "language": "python",
   "name": "python3"
  },
  "language_info": {
   "codemirror_mode": {
    "name": "ipython",
    "version": 3
   },
   "file_extension": ".py",
   "mimetype": "text/x-python",
   "name": "python",
   "nbconvert_exporter": "python",
   "pygments_lexer": "ipython3",
   "version": "3.6.6"
  }
 },
 "nbformat": 4,
 "nbformat_minor": 2
}
